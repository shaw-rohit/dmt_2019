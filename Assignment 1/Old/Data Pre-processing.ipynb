{
 "cells": [
  {
   "cell_type": "code",
   "execution_count": 3,
   "metadata": {},
   "outputs": [],
   "source": [
    "import pandas as pd"
   ]
  },
  {
   "cell_type": "code",
   "execution_count": 5,
   "metadata": {},
   "outputs": [],
   "source": [
    "data = pd.read_csv(\"dataset_mood_smartphone.csv\")"
   ]
  },
  {
   "cell_type": "code",
   "execution_count": 6,
   "metadata": {},
   "outputs": [
    {
     "name": "stdout",
     "output_type": "stream",
     "text": [
      "    Unnamed: 0       id                     time variable  value\n",
      "0            1  AS14.01  2014-02-26 13:00:00.000     mood    6.0\n",
      "1            2  AS14.01  2014-02-26 15:00:00.000     mood    6.0\n",
      "2            3  AS14.01  2014-02-26 18:00:00.000     mood    6.0\n",
      "3            4  AS14.01  2014-02-26 21:00:00.000     mood    7.0\n",
      "4            5  AS14.01  2014-02-27 09:00:00.000     mood    6.0\n",
      "5            6  AS14.01  2014-02-27 12:00:00.000     mood    6.0\n",
      "6            7  AS14.01  2014-02-27 15:00:00.000     mood    7.0\n",
      "7            8  AS14.01  2014-03-21 09:00:00.000     mood    6.0\n",
      "8            9  AS14.01  2014-03-21 11:00:00.000     mood    6.0\n",
      "9           10  AS14.01  2014-03-21 15:00:00.000     mood    7.0\n",
      "10          11  AS14.01  2014-03-21 19:00:00.000     mood    6.0\n",
      "11          12  AS14.01  2014-03-21 21:00:00.000     mood    6.0\n",
      "12          13  AS14.01  2014-03-22 08:00:00.000     mood    7.0\n",
      "13          14  AS14.01  2014-03-22 12:00:00.000     mood    7.0\n",
      "14          15  AS14.01  2014-03-22 15:00:00.000     mood    7.0\n",
      "15          16  AS14.01  2014-03-22 18:00:00.000     mood    6.0\n",
      "16          17  AS14.01  2014-03-22 21:00:00.000     mood    5.0\n",
      "17          18  AS14.01  2014-03-23 10:00:00.000     mood    7.0\n",
      "18          19  AS14.01  2014-03-23 12:00:00.000     mood    7.0\n",
      "19          20  AS14.01  2014-03-23 15:00:00.000     mood    8.0\n"
     ]
    }
   ],
   "source": [
    "print(data[:20])"
   ]
  },
  {
   "cell_type": "code",
   "execution_count": 8,
   "metadata": {},
   "outputs": [
    {
     "name": "stderr",
     "output_type": "stream",
     "text": [
      "c:\\users\\rohit\\appdata\\local\\programs\\python\\python37\\lib\\site-packages\\pandas\\core\\ops.py:1649: FutureWarning: elementwise comparison failed; returning scalar instead, but in the future will perform elementwise comparison\n",
      "  result = method(y)\n"
     ]
    },
    {
     "name": "stdout",
     "output_type": "stream",
     "text": [
      "376710\n",
      "376912\n"
     ]
    }
   ],
   "source": [
    "import numpy as np\n",
    "subdata = data\n",
    "headers = data.columns.values.tolist()\n",
    "\n",
    "for head in headers:\n",
    "    try:\n",
    "        subdata = subdata[subdata[head] != \"NA\"]\n",
    "    except:\n",
    "        pass        \n",
    "    \n",
    "    try:\n",
    "        subdata = subdata.dropna()\n",
    "    except:\n",
    "        pass\n",
    "    \n",
    "    \n",
    "print(len(subdata))\n",
    "print(len(data))"
   ]
  },
  {
   "cell_type": "code",
   "execution_count": 10,
   "metadata": {},
   "outputs": [
    {
     "data": {
      "text/plain": [
       "['Unnamed: 0', 'id', 'time', 'variable', 'value']"
      ]
     },
     "execution_count": 10,
     "metadata": {},
     "output_type": "execute_result"
    }
   ],
   "source": [
    "subdata.columns.values.tolist()"
   ]
  },
  {
   "cell_type": "code",
   "execution_count": 19,
   "metadata": {},
   "outputs": [],
   "source": [
    "subdata = subdata.drop(['Unnamed: 0'], axis=1)"
   ]
  },
  {
   "cell_type": "code",
   "execution_count": 20,
   "metadata": {},
   "outputs": [],
   "source": [
    "subdata.to_csv('cleaned_data.csv')"
   ]
  }
 ],
 "metadata": {
  "kernelspec": {
   "display_name": "Python 3",
   "language": "python",
   "name": "python3"
  },
  "language_info": {
   "codemirror_mode": {
    "name": "ipython",
    "version": 3
   },
   "file_extension": ".py",
   "mimetype": "text/x-python",
   "name": "python",
   "nbconvert_exporter": "python",
   "pygments_lexer": "ipython3",
   "version": "3.7.3"
  }
 },
 "nbformat": 4,
 "nbformat_minor": 2
}
